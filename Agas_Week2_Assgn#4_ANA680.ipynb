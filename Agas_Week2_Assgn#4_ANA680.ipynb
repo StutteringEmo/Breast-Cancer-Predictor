{
 "cells": [
  {
   "cell_type": "markdown",
   "id": "b894fe6a-fdcf-4fa2-bd3f-3d62e8aa1e3a",
   "metadata": {},
   "source": [
    "## Import Libraries\n",
    "We begin by importing all the required Python libraries for this project.  \n",
    "This includes:\n",
    "- **Data handling:** pandas, numpy  \n",
    "- **Modeling & evaluation:** scikit-learn classifiers, pipelines, cross-validation  \n",
    "- **Saving artifacts:** joblib, json  \n",
    "- **Dataset access:** ucimlrepo for fetching the Breast Cancer dataset  \n",
    "\n",
    "Keeping all imports in the first cell ensures cleaner structure and reproducibility."
   ]
  },
  {
   "cell_type": "code",
   "execution_count": 1,
   "id": "1a05d584-3e81-4f54-957c-73dae7d950ab",
   "metadata": {},
   "outputs": [],
   "source": [
    "import os, sys, json, joblib\n",
    "import numpy as np\n",
    "import pandas as pd\n",
    "\n",
    "from sklearn.model_selection import train_test_split, cross_val_score\n",
    "from sklearn.pipeline import Pipeline\n",
    "from sklearn.impute import SimpleImputer\n",
    "from sklearn.metrics import accuracy_score, classification_report\n",
    "from sklearn.linear_model import LogisticRegression\n",
    "from sklearn.ensemble import RandomForestClassifier, GradientBoostingClassifier\n",
    "from sklearn.svm import SVC\n",
    "\n",
    "from ucimlrepo import fetch_ucirepo"
   ]
  },
  {
   "cell_type": "markdown",
   "id": "2b3942ca-707d-47e1-bf4b-0dc6b1d5fa96",
   "metadata": {},
   "source": [
    "## Fetch Dataset\n",
    "We fetch the **Breast Cancer Wisconsin (Original)** dataset directly from the UCI ML Repository using `ucimlrepo`.  \n",
    "This returns:\n",
    "- **X**: a DataFrame of 9 cytological features  \n",
    "- **y**: the target column (benign vs malignant)  \n",
    "- Metadata and variable descriptions for context"
   ]
  },
  {
   "cell_type": "code",
   "execution_count": 2,
   "id": "f03f9875-84ab-40f5-bd47-d511c2df7c3b",
   "metadata": {},
   "outputs": [
    {
     "name": "stdout",
     "output_type": "stream",
     "text": [
      "Raw shapes: (699, 9) (699,)\n",
      "Breast Cancer Wisconsin (Original)\n"
     ]
    },
    {
     "data": {
      "text/html": [
       "<div>\n",
       "<style scoped>\n",
       "    .dataframe tbody tr th:only-of-type {\n",
       "        vertical-align: middle;\n",
       "    }\n",
       "\n",
       "    .dataframe tbody tr th {\n",
       "        vertical-align: top;\n",
       "    }\n",
       "\n",
       "    .dataframe thead th {\n",
       "        text-align: right;\n",
       "    }\n",
       "</style>\n",
       "<table border=\"1\" class=\"dataframe\">\n",
       "  <thead>\n",
       "    <tr style=\"text-align: right;\">\n",
       "      <th></th>\n",
       "      <th>name</th>\n",
       "      <th>role</th>\n",
       "      <th>type</th>\n",
       "      <th>demographic</th>\n",
       "      <th>description</th>\n",
       "      <th>units</th>\n",
       "      <th>missing_values</th>\n",
       "    </tr>\n",
       "  </thead>\n",
       "  <tbody>\n",
       "    <tr>\n",
       "      <th>0</th>\n",
       "      <td>Sample_code_number</td>\n",
       "      <td>ID</td>\n",
       "      <td>Categorical</td>\n",
       "      <td>None</td>\n",
       "      <td>None</td>\n",
       "      <td>None</td>\n",
       "      <td>no</td>\n",
       "    </tr>\n",
       "    <tr>\n",
       "      <th>1</th>\n",
       "      <td>Clump_thickness</td>\n",
       "      <td>Feature</td>\n",
       "      <td>Integer</td>\n",
       "      <td>None</td>\n",
       "      <td>None</td>\n",
       "      <td>None</td>\n",
       "      <td>no</td>\n",
       "    </tr>\n",
       "    <tr>\n",
       "      <th>2</th>\n",
       "      <td>Uniformity_of_cell_size</td>\n",
       "      <td>Feature</td>\n",
       "      <td>Integer</td>\n",
       "      <td>None</td>\n",
       "      <td>None</td>\n",
       "      <td>None</td>\n",
       "      <td>no</td>\n",
       "    </tr>\n",
       "    <tr>\n",
       "      <th>3</th>\n",
       "      <td>Uniformity_of_cell_shape</td>\n",
       "      <td>Feature</td>\n",
       "      <td>Integer</td>\n",
       "      <td>None</td>\n",
       "      <td>None</td>\n",
       "      <td>None</td>\n",
       "      <td>no</td>\n",
       "    </tr>\n",
       "    <tr>\n",
       "      <th>4</th>\n",
       "      <td>Marginal_adhesion</td>\n",
       "      <td>Feature</td>\n",
       "      <td>Integer</td>\n",
       "      <td>None</td>\n",
       "      <td>None</td>\n",
       "      <td>None</td>\n",
       "      <td>no</td>\n",
       "    </tr>\n",
       "  </tbody>\n",
       "</table>\n",
       "</div>"
      ],
      "text/plain": [
       "                       name     role         type demographic description  \\\n",
       "0        Sample_code_number       ID  Categorical        None        None   \n",
       "1           Clump_thickness  Feature      Integer        None        None   \n",
       "2   Uniformity_of_cell_size  Feature      Integer        None        None   \n",
       "3  Uniformity_of_cell_shape  Feature      Integer        None        None   \n",
       "4         Marginal_adhesion  Feature      Integer        None        None   \n",
       "\n",
       "  units missing_values  \n",
       "0  None             no  \n",
       "1  None             no  \n",
       "2  None             no  \n",
       "3  None             no  \n",
       "4  None             no  "
      ]
     },
     "metadata": {},
     "output_type": "display_data"
    }
   ],
   "source": [
    "breast_cancer = fetch_ucirepo(id=15)\n",
    "X = breast_cancer.data.features.copy()\n",
    "y = breast_cancer.data.targets.squeeze().copy()\n",
    "\n",
    "print(\"Raw shapes:\", X.shape, y.shape)\n",
    "print(breast_cancer.metadata[\"name\"])\n",
    "display(breast_cancer.variables.head())"
   ]
  },
  {
   "cell_type": "markdown",
   "id": "1a1a2e3d-777f-4819-b6e4-100a8c4db2b4",
   "metadata": {},
   "source": [
    "## Clean Data and Split\n",
    "The target classes are encoded as `2 = benign` and `4 = malignant`.  \n",
    "We remap them into `{0,1}` for scikit-learn compatibility.  \n",
    "We also ensure all features are numeric, then split the dataset into:\n",
    "- **Training set (80%)**  \n",
    "- **Test set (20%)**, stratified to preserve class proportions."
   ]
  },
  {
   "cell_type": "code",
   "execution_count": 3,
   "id": "eca2c4d0-89fb-46e7-8d91-a6ce2f7362c0",
   "metadata": {},
   "outputs": [
    {
     "name": "stdout",
     "output_type": "stream",
     "text": [
      "Train: (559, 9)  Test: (140, 9)\n",
      "Target balance in train:\n",
      " Class\n",
      "benign       0.654741\n",
      "malignant    0.345259\n",
      "Name: proportion, dtype: float64\n"
     ]
    }
   ],
   "source": [
    "# Convert class {2,4} -> {0,1}; ensure numeric; stratified split.\n",
    "y = y.replace({2: 0, 4: 1})\n",
    "\n",
    "# Coerce all feature columns to numeric (ucimlrepo typically already does this).\n",
    "for c in X.columns:\n",
    "    X[c] = pd.to_numeric(X[c], errors=\"coerce\")\n",
    "\n",
    "X_train, X_test, y_train, y_test = train_test_split(\n",
    "    X, y, test_size=0.2, random_state=42, stratify=y\n",
    ")\n",
    "\n",
    "print(\"Train:\", X_train.shape, \" Test:\", X_test.shape)\n",
    "print(\"Target balance in train:\\n\", y_train.value_counts(normalize=True).rename({0:\"benign\",1:\"malignant\"}))"
   ]
  },
  {
   "cell_type": "markdown",
   "id": "caaf07ea-4a33-4f75-914d-370535929a5e",
   "metadata": {},
   "source": [
    "## Model Selection\n",
    "We compare several candidate classifiers using a unified pipeline with 5-fold cross-validation:\n",
    "- Logistic Regression  \n",
    "- Random Forest  \n",
    "- Gradient Boosting  \n",
    "- Support Vector Classifier (RBF kernel)  \n",
    "\n",
    "Each pipeline includes a **SimpleImputer** to handle missing values.  \n",
    "We select the model with the highest mean cross-validation accuracy."
   ]
  },
  {
   "cell_type": "code",
   "execution_count": 4,
   "id": "f2bff39b-df96-4beb-8feb-c4c5b2f23834",
   "metadata": {},
   "outputs": [
    {
     "data": {
      "text/html": [
       "<div>\n",
       "<style scoped>\n",
       "    .dataframe tbody tr th:only-of-type {\n",
       "        vertical-align: middle;\n",
       "    }\n",
       "\n",
       "    .dataframe tbody tr th {\n",
       "        vertical-align: top;\n",
       "    }\n",
       "\n",
       "    .dataframe thead th {\n",
       "        text-align: right;\n",
       "    }\n",
       "</style>\n",
       "<table border=\"1\" class=\"dataframe\">\n",
       "  <thead>\n",
       "    <tr style=\"text-align: right;\">\n",
       "      <th></th>\n",
       "      <th>model</th>\n",
       "      <th>cv_mean_acc</th>\n",
       "      <th>cv_std</th>\n",
       "    </tr>\n",
       "  </thead>\n",
       "  <tbody>\n",
       "    <tr>\n",
       "      <th>0</th>\n",
       "      <td>log_reg</td>\n",
       "      <td>0.969611</td>\n",
       "      <td>0.013333</td>\n",
       "    </tr>\n",
       "    <tr>\n",
       "      <th>1</th>\n",
       "      <td>rf</td>\n",
       "      <td>0.967825</td>\n",
       "      <td>0.010671</td>\n",
       "    </tr>\n",
       "    <tr>\n",
       "      <th>3</th>\n",
       "      <td>svc_rbf</td>\n",
       "      <td>0.967793</td>\n",
       "      <td>0.018398</td>\n",
       "    </tr>\n",
       "    <tr>\n",
       "      <th>2</th>\n",
       "      <td>gb</td>\n",
       "      <td>0.964237</td>\n",
       "      <td>0.007932</td>\n",
       "    </tr>\n",
       "  </tbody>\n",
       "</table>\n",
       "</div>"
      ],
      "text/plain": [
       "     model  cv_mean_acc    cv_std\n",
       "0  log_reg     0.969611  0.013333\n",
       "1       rf     0.967825  0.010671\n",
       "3  svc_rbf     0.967793  0.018398\n",
       "2       gb     0.964237  0.007932"
      ]
     },
     "execution_count": 4,
     "metadata": {},
     "output_type": "execute_result"
    }
   ],
   "source": [
    "candidates = {\n",
    "    \"log_reg\": LogisticRegression(max_iter=500),\n",
    "    \"rf\": RandomForestClassifier(n_estimators=300, random_state=42),\n",
    "    \"gb\": GradientBoostingClassifier(random_state=42),\n",
    "    \"svc_rbf\": SVC(kernel=\"rbf\", probability=True, random_state=42)\n",
    "}\n",
    "\n",
    "results = []\n",
    "best_name, best_score, best_pipe = None, -1.0, None\n",
    "\n",
    "for name, est in candidates.items():\n",
    "    pipe = Pipeline([\n",
    "        (\"imputer\", SimpleImputer(strategy=\"most_frequent\")),\n",
    "        (\"model\", est),\n",
    "    ])\n",
    "    scores = cross_val_score(pipe, X_train, y_train, cv=5, scoring=\"accuracy\")\n",
    "    mean_acc, std_acc = scores.mean(), scores.std()\n",
    "    results.append({\"model\": name, \"cv_mean_acc\": mean_acc, \"cv_std\": std_acc})\n",
    "    if mean_acc > best_score:\n",
    "        best_name, best_score, best_pipe = name, mean_acc, pipe\n",
    "\n",
    "pd.DataFrame(results).sort_values(\"cv_mean_acc\", ascending=False)"
   ]
  },
  {
   "cell_type": "markdown",
   "id": "48ea24b1-9e84-42bf-b691-24bf85545aca",
   "metadata": {},
   "source": [
    "## Train and Evaluate Best Model\n",
    "We fit the selected pipeline on the training set and evaluate it on the test set.  \n",
    "Outputs include:\n",
    "- Test accuracy  \n",
    "- Precision, recall, and F1-score for both benign and malignant cases"
   ]
  },
  {
   "cell_type": "code",
   "execution_count": 5,
   "id": "41b4d534-1e15-4224-af06-63cfe0ce3833",
   "metadata": {},
   "outputs": [
    {
     "name": "stdout",
     "output_type": "stream",
     "text": [
      "Selected model: log_reg | CV mean acc: 0.9696\n",
      "Test Accuracy: 0.9500\n",
      "\n",
      "              precision    recall  f1-score   support\n",
      "\n",
      "      benign       0.96      0.97      0.96        92\n",
      "   malignant       0.94      0.92      0.93        48\n",
      "\n",
      "    accuracy                           0.95       140\n",
      "   macro avg       0.95      0.94      0.94       140\n",
      "weighted avg       0.95      0.95      0.95       140\n",
      "\n"
     ]
    }
   ],
   "source": [
    "best_pipe.fit(X_train, y_train)\n",
    "y_pred = best_pipe.predict(X_test)\n",
    "test_acc = accuracy_score(y_test, y_pred)\n",
    "\n",
    "print(f\"Selected model: {best_name} | CV mean acc: {best_score:.4f}\")\n",
    "print(f\"Test Accuracy: {test_acc:.4f}\\n\")\n",
    "print(classification_report(y_test, y_pred, target_names=[\"benign\",\"malignant\"]))"
   ]
  },
  {
   "cell_type": "markdown",
   "id": "13a0c74c-5c7d-4173-b4ad-0f847a7b63c7",
   "metadata": {},
   "source": [
    "## Save Model and Schema\n",
    "We persist:\n",
    "- **Trained model pipeline** as `model.pkl`  \n",
    "- **Schema** (`schema.json`) containing:\n",
    "  - Feature order  \n",
    "  - Target label mapping  \n",
    "  - Model name and metrics  \n",
    "\n",
    "These artifacts will be used by the Flask web app for predictions."
   ]
  },
  {
   "cell_type": "code",
   "execution_count": 6,
   "id": "a524dac0-47e3-4acd-b242-6bd8cd38fb80",
   "metadata": {},
   "outputs": [
    {
     "data": {
      "text/plain": [
       "('app/model.pkl', 'app/schema.json')"
      ]
     },
     "execution_count": 6,
     "metadata": {},
     "output_type": "execute_result"
    }
   ],
   "source": [
    "os.makedirs(\"app/templates\", exist_ok=True)\n",
    "\n",
    "model_path = \"app/model.pkl\"\n",
    "schema_path = \"app/schema.json\"\n",
    "\n",
    "joblib.dump(best_pipe, model_path)\n",
    "\n",
    "schema = {\n",
    "    \"feature_order\": list(X.columns),   # the input order the app will use\n",
    "    \"target_labels\": {0: \"benign\", 1: \"malignant\"},\n",
    "    \"selected_model\": best_name,\n",
    "    \"cv_accuracy\": float(best_score),\n",
    "    \"test_accuracy\": float(test_acc)\n",
    "}\n",
    "\n",
    "with open(schema_path, \"w\") as f:\n",
    "    json.dump(schema, f, indent=2)\n",
    "\n",
    "model_path, schema_path"
   ]
  },
  {
   "cell_type": "markdown",
   "id": "99b17546-8b22-4804-8b21-7bba4fcb53fb",
   "metadata": {},
   "source": [
    "## Generate Flask Application\n",
    "We create a minimal Flask web app that:\n",
    "- Loads the trained pipeline (`model.pkl`) and schema (`schema.json`)\n",
    "- Renders a form for entering the nine cytological features (1–10 scale)\n",
    "- Returns a prediction (benign/malignant), optional confidence (if supported), and model/accuracy info\n",
    "\n",
    "The app file will be written to `app/app.py`. This keeps the serving logic separate from the notebook."
   ]
  },
  {
   "cell_type": "code",
   "execution_count": 7,
   "id": "4f38f9c5-d60f-43f5-a8d0-f6f1b1ecb499",
   "metadata": {},
   "outputs": [
    {
     "data": {
      "text/plain": [
       "'app/app.py written.'"
      ]
     },
     "execution_count": 7,
     "metadata": {},
     "output_type": "execute_result"
    }
   ],
   "source": [
    "app_py = r\"\"\"from flask import Flask, render_template, request\n",
    "import joblib, json, numpy as np, os\n",
    "\n",
    "app = Flask(__name__)\n",
    "\n",
    "MODEL_PATH = os.path.join(os.path.dirname(__file__), \"model.pkl\")\n",
    "SCHEMA_PATH = os.path.join(os.path.dirname(__file__), \"schema.json\")\n",
    "\n",
    "pipe = joblib.load(MODEL_PATH)\n",
    "with open(SCHEMA_PATH) as f:\n",
    "    schema = json.load(f)\n",
    "\n",
    "FEATURES = schema[\"feature_order\"]\n",
    "LABELS = schema.get(\"target_labels\", {0:\"benign\",1:\"malignant\"})\n",
    "\n",
    "@app.route(\"/\", methods=[\"GET\"])\n",
    "def index():\n",
    "    return render_template(\"index.html\", features=FEATURES)\n",
    "\n",
    "@app.route(\"/predict\", methods=[\"POST\"])\n",
    "def predict():\n",
    "    try:\n",
    "        vals = [request.form.get(feat, type=float) for feat in FEATURES]\n",
    "        x = np.array(vals, dtype=float).reshape(1, -1)\n",
    "        pred = int(pipe.predict(x)[0])\n",
    "        proba = getattr(pipe, \"predict_proba\", None)\n",
    "        prob = float(proba(x)[0, pred]) if proba else None\n",
    "        label = LABELS.get(str(pred), LABELS.get(pred, \"unknown\"))\n",
    "        return render_template(\n",
    "            \"result.html\",\n",
    "            label=label,\n",
    "            prob=prob,\n",
    "            model_name=schema.get(\"selected_model\"),\n",
    "            test_acc=schema.get(\"test_accuracy\")\n",
    "        )\n",
    "    except Exception as e:\n",
    "        return render_template(\"error.html\", error=str(e)), 400\n",
    "\n",
    "if __name__ == \"__main__\":\n",
    "    app.run(host=\"0.0.0.0\", port=5000)\n",
    "\"\"\"\n",
    "with open(\"app/app.py\", \"w\", encoding=\"utf-8\") as f:\n",
    "    f.write(app_py)\n",
    "\n",
    "\"app/app.py written.\""
   ]
  },
  {
   "cell_type": "markdown",
   "id": "d8cf5836-339e-4aa4-8309-96fa5c2d7ec4",
   "metadata": {},
   "source": [
    "## Create HTML Templates\n",
    "We create three Jinja2 templates under `app/templates/`:\n",
    "- `index.html`: feature input form\n",
    "- `result.html`: prediction output (with optional confidence)\n",
    "- `error.html`: friendly error page"
   ]
  },
  {
   "cell_type": "code",
   "execution_count": 8,
   "id": "6c9f4595-8576-403f-82a8-a670ac9fbb8a",
   "metadata": {},
   "outputs": [
    {
     "data": {
      "text/plain": [
       "'Templates written.'"
      ]
     },
     "execution_count": 8,
     "metadata": {},
     "output_type": "execute_result"
    }
   ],
   "source": [
    "index_html = \"\"\"<!doctype html>\n",
    "<html>\n",
    "  <head>\n",
    "    <meta charset=\"utf-8\"/>\n",
    "    <title>Breast Cancer Predictor</title>\n",
    "    <style>\n",
    "      body { font-family: system-ui, Arial, sans-serif; max-width: 760px; margin: 40px auto; }\n",
    "      .grid { display: grid; grid-template-columns: 1fr 1fr; gap: 12px; }\n",
    "      input, button { padding: 10px; font-size: 1rem; width: 100%; box-sizing: border-box; }\n",
    "      button { cursor: pointer; }\n",
    "      label { font-size: .95rem; }\n",
    "    </style>\n",
    "  </head>\n",
    "  <body>\n",
    "    <h1>Breast Cancer (Original) — Prediction</h1>\n",
    "    <p>Enter the nine cytological features (1–10 scale):</p>\n",
    "    <form method=\"POST\" action=\"/predict\">\n",
    "      <div class=\"grid\">\n",
    "        {% for f in features %}\n",
    "          <label>\n",
    "            {{ f.replace('_',' ').title() }}<br/>\n",
    "            <input name=\"{{ f }}\" type=\"number\" min=\"1\" max=\"10\" step=\"1\" required>\n",
    "          </label>\n",
    "        {% endfor %}\n",
    "      </div>\n",
    "      <p><button type=\"submit\">Predict</button></p>\n",
    "    </form>\n",
    "  </body>\n",
    "</html>\n",
    "\"\"\"\n",
    "\n",
    "result_html = \"\"\"<!doctype html>\n",
    "<html>\n",
    "  <head><meta charset=\"utf-8\"><title>Result</title></head>\n",
    "  <body style=\"font-family:system-ui,Arial,sans-serif;max-width:760px;margin:40px auto;\">\n",
    "    <h1>Prediction Result</h1>\n",
    "    <p><strong>Prediction:</strong> {{ label|capitalize }}</p>\n",
    "    {% if prob is not none %}\n",
    "      <p><strong>Confidence:</strong> {{ (prob*100)|round(2) }}%</p>\n",
    "    {% endif %}\n",
    "    <p><em>Model:</em> {{ model_name }} | <em>Held-out accuracy:</em> {{ (test_acc*100)|round(2) }}%</p>\n",
    "    <p><a href=\"/\">← Back</a></p>\n",
    "  </body>\n",
    "</html>\n",
    "\"\"\"\n",
    "\n",
    "error_html = \"\"\"<!doctype html>\n",
    "<html>\n",
    "  <head><meta charset=\"utf-8\"><title>Error</title></head>\n",
    "  <body style=\"font-family:system-ui,Arial,sans-serif;max-width:760px;margin:40px auto;\">\n",
    "    <h1>Error</h1>\n",
    "    <pre>{{ error }}</pre>\n",
    "    <p><a href=\"/\">← Back</a></p>\n",
    "  </body>\n",
    "</html>\n",
    "\"\"\"\n",
    "\n",
    "with open(\"app/templates/index.html\",\"w\",encoding=\"utf-8\") as f: f.write(index_html)\n",
    "with open(\"app/templates/result.html\",\"w\",encoding=\"utf-8\") as f: f.write(result_html)\n",
    "with open(\"app/templates/error.html\",\"w\",encoding=\"utf-8\") as f: f.write(error_html)\n",
    "\n",
    "\"Templates written.\""
   ]
  },
  {
   "cell_type": "markdown",
   "id": "d416c3dd-df35-4ddb-a6ba-35d37d98626d",
   "metadata": {},
   "source": [
    "## Deployment Files (Heroku + GitHub Actions)\n",
    "We generate the files needed to deploy the app to Heroku with CI/CD:\n",
    "- `Procfile`: tells Heroku how to run the app with Gunicorn\n",
    "- `requirements.txt`: Python dependencies\n",
    "- `runtime.txt`: Python version (pin for Heroku)\n",
    "- `.gitignore`: ignore caches and notebook checkpoints\n",
    "- `.github/workflows/deploy.yml`: GitHub Actions to deploy on push to `main`\n",
    "\n",
    "Before pushing, set the GitHub repo secrets:\n",
    "- `HEROKU_API_KEY` (your Heroku account API key)\n",
    "- `HEROKU_APP_NAME` (the name of your Heroku app)\n",
    "- `HEROKU_EMAIL` (your Heroku account email)"
   ]
  },
  {
   "cell_type": "code",
   "execution_count": 9,
   "id": "79aec25a-50ea-4ca9-8030-a0d0695970b3",
   "metadata": {},
   "outputs": [
    {
     "data": {
      "text/plain": [
       "'Deployment files written.'"
      ]
     },
     "execution_count": 9,
     "metadata": {},
     "output_type": "execute_result"
    }
   ],
   "source": [
    "procfile = \"web: gunicorn app.app:app\\n\"\n",
    "requirements = \"\\n\".join([\n",
    "    \"flask\",\n",
    "    \"gunicorn\",\n",
    "    \"pandas\",\n",
    "    \"numpy\",\n",
    "    \"scikit-learn\",\n",
    "    \"joblib\",\n",
    "    \"ucimlrepo\"\n",
    "]) + \"\\n\"\n",
    "runtime = \"python-3.11.9\\n\"\n",
    "gitignore = \"\\n\".join([\n",
    "    \"__pycache__/\",\n",
    "    \".ipynb_checkpoints/\",\n",
    "    \"*.pyc\",\n",
    "    \".env\"\n",
    "]) + \"\\n\"\n",
    "\n",
    "workflow = r\"\"\"name: CI/CD to Heroku\n",
    "\n",
    "on:\n",
    "  push:\n",
    "    branches: [ \"main\" ]\n",
    "  workflow_dispatch:\n",
    "\n",
    "jobs:\n",
    "  build-and-deploy:\n",
    "    runs-on: ubuntu-latest\n",
    "    steps:\n",
    "    - name: Checkout\n",
    "      uses: actions/checkout@v4\n",
    "\n",
    "    - name: Set up Python\n",
    "      uses: actions/setup-python@v5\n",
    "      with:\n",
    "        python-version: \"3.11\"\n",
    "\n",
    "    - name: Install deps\n",
    "      run: |\n",
    "        python -m pip install --upgrade pip\n",
    "        pip install -r requirements.txt\n",
    "\n",
    "    - name: Smoke check artifacts\n",
    "      run: |\n",
    "        python - << 'PY'\n",
    "        import os, json\n",
    "        assert os.path.exists(\"app/model.pkl\"), \"Missing app/model.pkl. Run the training cells and commit artifacts.\"\n",
    "        assert os.path.exists(\"app/schema.json\"), \"Missing app/schema.json.\"\n",
    "        print(\"Artifacts present.\")\n",
    "        PY\n",
    "\n",
    "    - name: Deploy to Heroku\n",
    "      uses: akhileshns/heroku-deploy@v3.12.12\n",
    "      with:\n",
    "        heroku_api_key: ${{ secrets.HEROKU_API_KEY }}\n",
    "        heroku_app_name: ${{ secrets.HEROKU_APP_NAME }}\n",
    "        heroku_email: ${{ secrets.HEROKU_EMAIL }}\n",
    "        usedocker: false\n",
    "\"\"\"\n",
    "\n",
    "with open(\"Procfile\",\"w\") as f: f.write(procfile)\n",
    "with open(\"requirements.txt\",\"w\") as f: f.write(requirements)\n",
    "with open(\"runtime.txt\",\"w\") as f: f.write(runtime)\n",
    "with open(\".gitignore\",\"w\") as f: f.write(gitignore)\n",
    "\n",
    "os.makedirs(\".github/workflows\", exist_ok=True)\n",
    "with open(\".github/workflows/deploy.yml\",\"w\") as f: f.write(workflow)\n",
    "\n",
    "\"Deployment files written.\""
   ]
  }
 ],
 "metadata": {
  "kernelspec": {
   "display_name": "Python 3 (ipykernel)",
   "language": "python",
   "name": "python3"
  },
  "language_info": {
   "codemirror_mode": {
    "name": "ipython",
    "version": 3
   },
   "file_extension": ".py",
   "mimetype": "text/x-python",
   "name": "python",
   "nbconvert_exporter": "python",
   "pygments_lexer": "ipython3",
   "version": "3.12.7"
  }
 },
 "nbformat": 4,
 "nbformat_minor": 5
}
